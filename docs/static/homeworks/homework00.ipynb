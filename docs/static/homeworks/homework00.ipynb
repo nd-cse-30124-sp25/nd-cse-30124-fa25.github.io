{
 "cells": [
  {
   "cell_type": "markdown",
   "id": "e8b5621d",
   "metadata": {},
   "source": [
    "# Introduction to Artificial Intelligence: Orientation Homework\n",
    "Welcome to the orientation homework for **Introduction to Artificial Intelligence**! This notebook will guide you through some of the basic functionalities of Jupyter Notebooks, which we will be using extensively throughout this course.\n",
    "\n",
    "## Table of Contents\n",
    "1. [Introduction to Jupyter Notebooks](#introduction)\n",
    "2. [Markdown Cells](#markdown)\n",
    "3. [Code Cells](#code)\n",
    "4. [Running Cells](#running-cells)\n",
    "5. [Your First AI Task](#ai-task)\n",
    "\n",
    "---\n"
   ]
  },
  {
   "cell_type": "markdown",
   "id": "03c2ae1e",
   "metadata": {},
   "source": [
    "## Introduction to Jupyter Notebooks\n",
    "Jupyter Notebooks are an open-source web application that allows you to create and share documents that contain live code, equations, visualizations, and narrative text. They are widely used in data science, machine learning, and artificial intelligence for data cleaning and transformation, numerical simulation, statistical modeling, data visualization, and much more.\n",
    "\n",
    "In this course, we will use Jupyter Notebooks to explore various AI concepts and implement algorithms in Python.\n",
    "\n",
    "Let's start by understanding the two main types of cells in a Jupyter Notebook: Markdown cells and Code cells."
   ]
  },
  {
   "cell_type": "markdown",
   "id": "51b918e8",
   "metadata": {},
   "source": [
    "## Markdown Cells\n",
    "Markdown cells are used to write and format text. You can use Markdown to add headings, lists, links, images, and even LaTeX equations to your notebook.\n",
    "\n",
    "Here's an example of a Markdown list:\n",
    "\n",
    "- **Bold text**: `**Bold text**`\n",
    "- *Italic text*: `*Italic text*`\n",
    "- [Link](https://www.example.com): `[Link](https://www.example.com)`\n",
    "\n",
    "You can also add images using Markdown:\n",
    "\n",
    "`![Image description](https://www.example.com/image.png)`\n",
    "\n",
    "Try editing this cell and adding some of your own Markdown elements!"
   ]
  },
  {
   "cell_type": "markdown",
   "id": "f8308a4d",
   "metadata": {},
   "source": [
    "## Code Cells\n",
    "Code cells are where you'll write and run your Python code. Below is an example of a simple Python code snippet.\n",
    "\n",
    "```python\n",
    "print('Hello, CSE 30124!')\n",
    "```\n",
    "\n",
    "You can run the code by clicking the cell and pressing `Shift + Enter`, or by clicking the 'Run' button at the top of the notebook.\n",
    "\n",
    "Let's try running a code cell in the next section."
   ]
  },
  {
   "cell_type": "code",
   "execution_count": 1,
   "id": "698a9de7",
   "metadata": {},
   "outputs": [
    {
     "name": "stdout",
     "output_type": "stream",
     "text": [
      "Hello, CSE 30124!\n"
     ]
    }
   ],
   "source": [
    "print('Hello, CSE 30124!')"
   ]
  },
  {
   "cell_type": "markdown",
   "id": "f8bee188",
   "metadata": {},
   "source": [
    "## Running Cells\n",
    "To run a cell, simply click on it to select it, and then press `Shift + Enter`. Try running the code cell above to see the output.\n",
    "\n",
    "Running a cell will execute any Python code it contains and display the output directly below the cell.\n",
    "\n",
    "If you run into any errors, don't worry! Debugging is a key part of coding, and we'll cover it in more detail later in the course."
   ]
  },
  {
   "cell_type": "markdown",
   "id": "7b9c60f3",
   "metadata": {},
   "source": [
    "## Questions\n",
    "Now that you know the basics of Markdown and Code cells, it's time for you to create your own pieces of a notebook\n",
    "\n",
    "1. Create a new Markdown cell below this one. In that cell, write a brief paragraph about what you have used AI for in the past and a mistake you found that it made.\n",
    "2. Create a new Code cell below your Markdown cell. In that cell, write a Python function that takes a number as input and returns the square of that number.\n",
    "3. Run your code cell to make sure your function works correctly.\n",
    "\n",
    "Good luck, and welcome to CSE 30124!"
   ]
  }
 ],
 "metadata": {
  "kernelspec": {
   "display_name": "Python 3",
   "language": "python",
   "name": "python3"
  },
  "language_info": {
   "codemirror_mode": {
    "name": "ipython",
    "version": 3
   },
   "file_extension": ".py",
   "mimetype": "text/x-python",
   "name": "python",
   "nbconvert_exporter": "python",
   "pygments_lexer": "ipython3",
   "version": "3.9.6"
  }
 },
 "nbformat": 4,
 "nbformat_minor": 5
}
